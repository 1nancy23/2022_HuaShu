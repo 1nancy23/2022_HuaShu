{
 "cells": [
  {
   "cell_type": "code",
   "execution_count": 158,
   "metadata": {},
   "outputs": [],
   "source": [
    "import pandas as pd\n",
    "from scipy import stats\n",
    "Data=pd.read_excel('./C2.xlsx')"
   ]
  },
  {
   "cell_type": "code",
   "execution_count": 159,
   "metadata": {},
   "outputs": [
    {
     "data": {
      "text/plain": [
       "<matplotlib.colorbar.Colorbar at 0x24721f472b0>"
      ]
     },
     "execution_count": 159,
     "metadata": {},
     "output_type": "execute_result"
    },
    {
     "name": "stderr",
     "output_type": "stream",
     "text": [
      "d:\\new_1\\envs\\new_conda1\\lib\\site-packages\\IPython\\core\\pylabtools.py:151: UserWarning: Glyph 8722 (\\N{MINUS SIGN}) missing from current font.\n",
      "  fig.canvas.print_figure(bytes_io, **kw)\n"
     ]
    },
    {
     "data": {
      "image/png": "[encoded data removed]",
      "text/plain": [
       "<Figure size 640x480 with 2 Axes>"
      ]
     },
     "metadata": {},
     "output_type": "display_data"
    }
   ],
   "source": [
    "####线性相关性分析\n",
    "from matplotlib import pyplot as plt\n",
    "plt.rcParams['font.sans-serif']=['SimHei']\n",
    "plt.imshow(Data.corr(),cmap=plt.cm.Reds,interpolation='nearest')\n",
    "plt.colorbar()"
   ]
  },
  {
   "cell_type": "code",
   "execution_count": 160,
   "metadata": {},
   "outputs": [
    {
     "name": "stdout",
     "output_type": "stream",
     "text": [
      "厚度mm 评分 0.9997884650764719\n",
      "r2系数为 0.9997884650764719\n",
      "    lb_stat  lb_pvalue\n",
      "1  1.237688   0.265917\n",
      "2  1.409417   0.494253\n",
      "3  1.811457   0.612445\n",
      "4  4.338903   0.362079\n",
      "5  7.582186   0.180815\n",
      "孔隙率（%） 评分 0.8913008121026815\n",
      "r2系数为 0.8913008121026815\n",
      "    lb_stat  lb_pvalue\n",
      "1  1.313925   0.251685\n",
      "2  1.804461   0.405664\n",
      "3  1.904983   0.592360\n",
      "4  2.393386   0.663823\n",
      "5  6.278936   0.280016\n",
      "压缩回弹性率（%） 评分 0.9646429380778619\n",
      "r2系数为 0.9646429380778619\n",
      "    lb_stat  lb_pvalue\n",
      "1  1.547797   0.213461\n",
      "2  2.901955   0.234341\n",
      "3  3.416777   0.331717\n",
      "4  4.419526   0.352197\n",
      "5  4.441926   0.487691\n",
      "过滤阻力Pa 评分 0.6523673018136757\n",
      "r2系数为 0.6523673018136757\n",
      "     lb_stat  lb_pvalue\n",
      "1   5.211763   0.022435\n",
      "2  11.921922   0.002577\n",
      "3  17.450457   0.000571\n",
      "4  17.648915   0.001445\n",
      "5  17.693107   0.003357\n",
      "过滤效率（%） 评分 0.7613758285076698\n",
      "r2系数为 0.7613758285076698\n",
      "      lb_stat     lb_pvalue\n",
      "1   41.898930  9.611520e-11\n",
      "2   77.863234  1.236555e-17\n",
      "3   98.790057  2.829044e-21\n",
      "4  113.716909  1.172340e-23\n",
      "5  119.643058  3.735370e-24\n",
      "透气性 mm/s 评分 0.5215921052452939\n",
      "r2系数为 0.5215921052452939\n",
      "     lb_stat     lb_pvalue\n",
      "1  29.425191  5.811727e-08\n",
      "2  50.918886  8.772117e-12\n",
      "3  59.376339  7.988706e-13\n",
      "4  66.068412  1.532295e-13\n",
      "5  66.973450  4.363927e-13\n"
     ]
    }
   ],
   "source": [
    "###多项式回归分析+对应模型误差分析\n",
    "from sklearn.preprocessing import PolynomialFeatures\n",
    "from sklearn.linear_model import LinearRegression\n",
    "from sklearn.metrics import r2_score\n",
    "import statsmodels.api as sm\n",
    "Cols=Data.columns\n",
    "X_Ori=Data[Cols[0:2]]\n",
    "X_Trans=PolynomialFeatures(degree=2,include_bias=False).fit_transform(X_Ori)\n",
    "Models=[]\n",
    "for i in Cols[2:]:\n",
    "    Modelx=LinearRegression()\n",
    "    Y=Data[i]\n",
    "    Modelx.fit(X_Trans,Y)\n",
    "    print(i,\"评分\",Modelx.score(X_Trans,Y))\n",
    "    print(\"r2系数为\",r2_score(Y,Modelx.predict(X_Trans)))\n",
    "    \n",
    "    ###检验误差是否为白噪声\n",
    "    WuCha=Y-Modelx.predict(X_Trans)\n",
    "    \n",
    "    # 计算ACF\n",
    "    acf = sm.tsa.stattools.acf(WuCha)\n",
    "\n",
    "    # 绘制ACF图\n",
    "    # sm.graphics.tsa.plot_acf(WuCha, lags=20)\n",
    "    # plt.show()    \n",
    "    \n",
    "    # 进行Ljung-Box检验\n",
    "    lb_test = sm.stats.diagnostic.acorr_ljungbox(WuCha, lags=5)\n",
    "    print(lb_test)\n",
    "    Models.append(Modelx)"
   ]
  },
  {
   "cell_type": "code",
   "execution_count": 161,
   "metadata": {},
   "outputs": [
    {
     "name": "stdout",
     "output_type": "stream",
     "text": [
      "过滤效率（%）评分 0.7613758285076698\n",
      "[-1.38979867e+00  1.02238810e-01  8.32533333e-02 -4.63074000e-03\n",
      "  2.17514286e-05]\n"
     ]
    }
   ],
   "source": [
    "###对过滤效率做出回归分析\n",
    "X1=Data[Cols[:2]]\n",
    "Y1=Data['过滤效率（%）']\n",
    "ModelQ=LinearRegression()\n",
    "X1=PolynomialFeatures(degree=2,include_bias=False).fit_transform(X1)\n",
    "ModelQ.fit(X1,Y1)\n",
    "print(\"过滤效率（%）评分\",ModelQ.score(X1,Y1))\n",
    "print(ModelQ.coef_)\n",
    "###由对应系数找出平面最大点即可。"
   ]
  },
  {
   "cell_type": "code",
   "execution_count": 162,
   "metadata": {},
   "outputs": [],
   "source": [
    "\n",
    "def Output(Modless,input):\n",
    "    Results=[]\n",
    "    input=PolynomialFeatures(degree=2,include_bias=False).fit_transform([input])\n",
    "    for i in range(len(Modless)):\n",
    "        Results.append(Modless[i].predict(input)[0])\n",
    "    return Results\n",
    "    pass\n",
    "Trans=PolynomialFeatures(degree=2,include_bias=False)\n",
    "FUN1=lambda x:Output(Models,x)[3]+1/Output(Models,x)[4]\n",
    "\n",
    "cons=({'type':'ineq','fun':lambda x:100-x[0]},\n",
    "      {'type':'ineq','fun':lambda x:2000-x[1]},\n",
    "      {'type':'ineq','fun':lambda x:3-Output(Models,x)[0]},\n",
    "      {'type':'ineq','fun':lambda x:Output(Models,x)[2]-85})\n",
    "      "
   ]
  },
  {
   "cell_type": "code",
   "execution_count": 163,
   "metadata": {},
   "outputs": [
    {
     "name": "stdout",
     "output_type": "stream",
     "text": [
      "工艺参数为 [ 40.5729375  865.83574569]\n",
      "最小值： 25.121986149012134\n",
      "最优解： [ 40.5729375  865.83574569]\n",
      "迭代终止是否成功： True\n",
      "迭代终止原因： Optimization terminated successfully\n"
     ]
    }
   ],
   "source": [
    "#用权重法进行多目标优化)\n",
    "import numpy as np\n",
    "from scipy.optimize import minimize\n",
    "x0 = np.array((1.0, 2.0)) # 设置初始值\n",
    "res = minimize(FUN1, x0, method='SLSQP', constraints=cons)\n",
    "print('工艺参数为',res.x)\n",
    "\n",
    "print('最小值：',res.fun)\n",
    "print('最优解：',res.x)\n",
    "print('迭代终止是否成功：', res.success)\n",
    "print('迭代终止原因：', res.message)"
   ]
  }
 ],
 "metadata": {
  "kernelspec": {
   "display_name": "new_conda1",
   "language": "python",
   "name": "python3"
  },
  "language_info": {
   "codemirror_mode": {
    "name": "ipython",
    "version": 3
   },
   "file_extension": ".py",
   "mimetype": "text/x-python",
   "name": "python",
   "nbconvert_exporter": "python",
   "pygments_lexer": "ipython3",
   "version": "3.9.13"
  },
  "orig_nbformat": 4,
  "vscode": {
   "interpreter": {
    "hash": "72d023987b5fa208db5d7ed0ffcdf8a28da6a495970eda4d2a720774cacd7371"
   }
  }
 },
 "nbformat": 4,
 "nbformat_minor": 2
}
